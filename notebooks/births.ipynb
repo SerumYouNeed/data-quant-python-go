{
 "cells": [
  {
   "cell_type": "code",
   "execution_count": 23,
   "id": "0c2cf142",
   "metadata": {},
   "outputs": [
    {
     "name": "stdout",
     "output_type": "stream",
     "text": [
      "<class 'pandas.core.frame.DataFrame'>\n",
      "RangeIndex: 7711 entries, 0 to 7710\n",
      "Data columns (total 7 columns):\n",
      " #   Column                                Non-Null Count  Dtype \n",
      "---  ------                                --------------  ----- \n",
      " 0   T02                                   7711 non-null   object\n",
      " 1   Population, density and surface area  7710 non-null   object\n",
      " 2   Unnamed: 2                            7711 non-null   object\n",
      " 3   Unnamed: 3                            7711 non-null   object\n",
      " 4   Unnamed: 4                            7711 non-null   object\n",
      " 5   Unnamed: 5                            4387 non-null   object\n",
      " 6   Unnamed: 6                            7711 non-null   object\n",
      "dtypes: object(7)\n",
      "memory usage: 421.8+ KB\n"
     ]
    }
   ],
   "source": [
    "import pandas as pd\n",
    "\n",
    "df = pd.read_csv('../resources/input/SYB67_1_202411_Population, Surface Area and Density.csv')\n",
    "\n",
    "# df.describe()\n",
    "# df.head(10)\n",
    "# df.columns\n",
    "df.info()"
   ]
  }
 ],
 "metadata": {
  "kernelspec": {
   "display_name": "venv",
   "language": "python",
   "name": "python3"
  },
  "language_info": {
   "codemirror_mode": {
    "name": "ipython",
    "version": 3
   },
   "file_extension": ".py",
   "mimetype": "text/x-python",
   "name": "python",
   "nbconvert_exporter": "python",
   "pygments_lexer": "ipython3",
   "version": "3.10.12"
  }
 },
 "nbformat": 4,
 "nbformat_minor": 5
}
