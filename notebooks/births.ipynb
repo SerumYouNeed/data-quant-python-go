{
 "cells": [
  {
   "cell_type": "code",
   "execution_count": 2,
   "id": "0c2cf142",
   "metadata": {},
   "outputs": [
    {
     "data": {
      "text/plain": [
       "0    Region/Country/Area\n",
       "1                      1\n",
       "2                      1\n",
       "3                      1\n",
       "4                      1\n",
       "5                      1\n",
       "6                      1\n",
       "7                      1\n",
       "8                      1\n",
       "9                      1\n",
       "Name: T02, dtype: object"
      ]
     },
     "execution_count": 2,
     "metadata": {},
     "output_type": "execute_result"
    }
   ],
   "source": [
    "import pandas as pd\n",
    "\n",
    "df = pd.read_csv('../resources/input/SYB67_1_202411_Population, Surface Area and Density.csv')\n",
    "\n",
    "# df.describe()\n",
    "\n",
    "# df['Population, density and surface area'].distinct()\n",
    "df.columns\n",
    "df['T02'].head(10)\n",
    "# df.info()\n"
   ]
  }
 ],
 "metadata": {
  "kernelspec": {
   "display_name": "venv",
   "language": "python",
   "name": "python3"
  },
  "language_info": {
   "codemirror_mode": {
    "name": "ipython",
    "version": 3
   },
   "file_extension": ".py",
   "mimetype": "text/x-python",
   "name": "python",
   "nbconvert_exporter": "python",
   "pygments_lexer": "ipython3",
   "version": "3.10.12"
  }
 },
 "nbformat": 4,
 "nbformat_minor": 5
}
