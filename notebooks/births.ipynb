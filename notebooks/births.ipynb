{
 "cells": [
  {
   "cell_type": "code",
   "execution_count": null,
   "id": "0c2cf142",
   "metadata": {},
   "outputs": [
    {
     "data": {
      "text/plain": [
       "0                                 NaN\n",
       "1       Total, all countries or areas\n",
       "2       Total, all countries or areas\n",
       "3       Total, all countries or areas\n",
       "4       Total, all countries or areas\n",
       "                    ...              \n",
       "7706                             SIDS\n",
       "7707                             SIDS\n",
       "7708                             SIDS\n",
       "7709                             SIDS\n",
       "7710                             SIDS\n",
       "Name: Population, density and surface area, Length: 7711, dtype: object"
      ]
     },
     "execution_count": 4,
     "metadata": {},
     "output_type": "execute_result"
    }
   ],
   "source": [
    "import pandas as pd\n",
    "\n",
    "df = pd.read_csv('../resources/input/SYB67_1_202411_Population, Surface Area and Density.csv')\n",
    "\n",
    "# df.describe()\n",
    "df.head(10)\n",
    "# df.columns\n",
    "\n",
    "df = df['Population, density and surface area']\n",
    "# df.info()\n",
    "print(df)\n"
   ]
  }
 ],
 "metadata": {
  "kernelspec": {
   "display_name": "venv",
   "language": "python",
   "name": "python3"
  },
  "language_info": {
   "codemirror_mode": {
    "name": "ipython",
    "version": 3
   },
   "file_extension": ".py",
   "mimetype": "text/x-python",
   "name": "python",
   "nbconvert_exporter": "python",
   "pygments_lexer": "ipython3",
   "version": "3.10.12"
  }
 },
 "nbformat": 4,
 "nbformat_minor": 5
}
