{
 "cells": [
  {
   "cell_type": "code",
   "execution_count": 86,
   "id": "2a10f37b",
   "metadata": {},
   "outputs": [],
   "source": [
    "# If don't have, install only once\n",
    "# !pip install kagglehub\n",
    "\n",
    "import kagglehub\n",
    "import pandas as pd\n",
    "import os\n",
    "\n",
    "path = kagglehub.dataset_download(\"snehangsude/audible-dataset\")\n",
    "\n",
    "df = pd.read_csv(os.path.join(path, 'audible_uncleaned.csv'))\n",
    "\n",
    "# Check first views:\n",
    "# df.head()\n",
    "# df.describe()\n",
    "# df.info()"
   ]
  },
  {
   "cell_type": "code",
   "execution_count": 87,
   "id": "dc8d0003",
   "metadata": {},
   "outputs": [],
   "source": [
    "# Clean text data in Author and Narrator columns\n",
    "# Remove Writtenby: from the author column\n",
    "df['author'] = df['author'].str.replace('Writtenby:', '')\n",
    "# Remove Narratedby: from the narrator column\n",
    "df['narrator'] = df['narrator'].str.replace('Narratedby:', '')\n",
    "# df.head(2)"
   ]
  },
  {
   "cell_type": "code",
   "execution_count": 88,
   "id": "2bc610ed",
   "metadata": {},
   "outputs": [],
   "source": [
    "# Clean stars table\n",
    "# Create separate column for ratings\n",
    "df['ratings'] = df['stars'].str.extract(r'stars(\\d+)\\s')\n",
    "df['ratings'] = df['ratings'].fillna(0).astype('int')\n",
    "# Create separate column for stars\n",
    "df['stars out of five'] = df['stars'].str.extract(r'(\\d+)\\sout')\n",
    "df['stars out of five'] = df['stars out of five'].fillna(0).astype('float')\n",
    "df.drop('stars', axis=1, inplace=True)\n",
    "# df.head(2)\n",
    "# df['stars out of five'].unique()\n",
    "# df['ratings'].sample(n=30)"
   ]
  },
  {
   "cell_type": "code",
   "execution_count": 89,
   "id": "09ddb529",
   "metadata": {},
   "outputs": [],
   "source": [
    "# Replace the comma with ''\n",
    "df['price'] = df['price'].str.replace(',', '')\n",
    "# Replace 'Free' with 0\n",
    "df['price'] = df['price'].str.replace('Free', '0')\n",
    "# Turn price to float\n",
    "df['price'] = df['price'].astype(float)\n",
    "# df['price'].sample(n=30)"
   ]
  },
  {
   "cell_type": "code",
   "execution_count": null,
   "id": "ff6d2c1c",
   "metadata": {},
   "outputs": [
    {
     "data": {
      "text/plain": [
       "array(['0:20', '0:08', '0:03', '0:16', '0:00', '0:35', '0:23', '0:32',\n",
       "       '0:56', '0:22', '0:48', '0:01', '0:58', '0:55', '0:25', '0:04',\n",
       "       '0:41', '0:18', '0:42', '0:12', '0:29', '0:46', '0:37', '0:09',\n",
       "       '0:44', '0:53', '0:28', '0:26', '0:13', '0:43', '0:39', '0:31',\n",
       "       '0:19', '0:33', '0:51', '0:47', '0:24', '0:02', '0:10', '0:49',\n",
       "       '0:27', '0:34', '0:54', '0:06', '0:30', '0:38', '0:36', '0:50',\n",
       "       '0:11', '0:52', '0:05', '0:21', '0:57', '0:15', '0:45', '0:17',\n",
       "       '0:59', '0:40', '0:14', '0:07'], dtype=object)"
      ]
     },
     "execution_count": 92,
     "metadata": {},
     "output_type": "execute_result"
    }
   ],
   "source": [
    "# Convert releasedate to datetime\n",
    "df['releasedate'] = pd.to_datetime(df['releasedate'])\n",
    "# Inspect the dataframe \n",
    "# df.info()\n",
    "# Search the entries in the time column for different spellings of min. Let' try min, mins, minutes\n",
    "# df['time'].str.contains(r'\\b(min|mins|minutes)\\b', case=False, na=False)\n",
    "\n",
    "# Replace hrs, mins, and 'Less than 1 minute'\n",
    "df['time'] = df['time'].str.replace(r'\\b(mins?|minutes?)\\b', 'min', case=False, regex=True)\n",
    "df['time'] = df['time'].str.replace(r'\\b(hr?|hrs?)\\b', 'hr', case=False, regex=True)\n",
    "df['time'] = df['time'].str.replace('Less than 1 minute', '1 min')\n",
    "# set(type(x) for x in df['time'])\n",
    "# df['time'].isna().any()\n",
    "\n",
    "# Extract the number of hours, turn to integer\n",
    "df['hours'] = df['time'].str.extract(r'(\\d+)\\s*hr')\n",
    "df['hours'] = df['hours'].fillna(\"0\").astype('str')\n",
    "# Extract the number of minutes, turn to integer\n",
    "df['mins'] = df['time'].str.extract(r'and\\s(\\d+)\\s*min')\n",
    "df['mins'] = df['mins'].fillna(\"0\").astype('int')\n",
    "# Combine hours and minutes into the time_mins column\n",
    "df['duration'] = df['hours'].astype('str') + ':' + df['mins'].astype('str')\n",
    "df['mins'] = df['mins'].apply(lambda x: f\"0:{x:02}\")\n",
    "# Check the results\n",
    "df['mins'].unique()"
   ]
  }
 ],
 "metadata": {
  "kernelspec": {
   "display_name": "venv",
   "language": "python",
   "name": "python3"
  },
  "language_info": {
   "codemirror_mode": {
    "name": "ipython",
    "version": 3
   },
   "file_extension": ".py",
   "mimetype": "text/x-python",
   "name": "python",
   "nbconvert_exporter": "python",
   "pygments_lexer": "ipython3",
   "version": "3.10.12"
  }
 },
 "nbformat": 4,
 "nbformat_minor": 5
}
