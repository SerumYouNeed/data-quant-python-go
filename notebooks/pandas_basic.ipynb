{
 "cells": [
  {
   "cell_type": "code",
   "execution_count": 27,
   "id": "2a10f37b",
   "metadata": {},
   "outputs": [],
   "source": [
    "# If don't have, install only once\n",
    "# !pip install kagglehub\n",
    "\n",
    "import kagglehub\n",
    "import pandas as pd\n",
    "import os\n",
    "\n",
    "path = kagglehub.dataset_download(\"snehangsude/audible-dataset\")\n",
    "\n",
    "df = pd.read_csv(os.path.join(path, 'audible_uncleaned.csv'))\n",
    "\n",
    "# Check first views:\n",
    "# df.head()\n",
    "# df.describe()\n",
    "# df.info()"
   ]
  },
  {
   "cell_type": "code",
   "execution_count": 28,
   "id": "dc8d0003",
   "metadata": {},
   "outputs": [
    {
     "data": {
      "text/html": [
       "<div>\n",
       "<style scoped>\n",
       "    .dataframe tbody tr th:only-of-type {\n",
       "        vertical-align: middle;\n",
       "    }\n",
       "\n",
       "    .dataframe tbody tr th {\n",
       "        vertical-align: top;\n",
       "    }\n",
       "\n",
       "    .dataframe thead th {\n",
       "        text-align: right;\n",
       "    }\n",
       "</style>\n",
       "<table border=\"1\" class=\"dataframe\">\n",
       "  <thead>\n",
       "    <tr style=\"text-align: right;\">\n",
       "      <th></th>\n",
       "      <th>name</th>\n",
       "      <th>author</th>\n",
       "      <th>narrator</th>\n",
       "      <th>time</th>\n",
       "      <th>releasedate</th>\n",
       "      <th>language</th>\n",
       "      <th>stars</th>\n",
       "      <th>price</th>\n",
       "    </tr>\n",
       "  </thead>\n",
       "  <tbody>\n",
       "    <tr>\n",
       "      <th>0</th>\n",
       "      <td>Geronimo Stilton #11 &amp; #12</td>\n",
       "      <td>GeronimoStilton</td>\n",
       "      <td>BillLobely</td>\n",
       "      <td>2 hrs and 20 mins</td>\n",
       "      <td>04-08-08</td>\n",
       "      <td>English</td>\n",
       "      <td>5 out of 5 stars34 ratings</td>\n",
       "      <td>468.00</td>\n",
       "    </tr>\n",
       "    <tr>\n",
       "      <th>1</th>\n",
       "      <td>The Burning Maze</td>\n",
       "      <td>RickRiordan</td>\n",
       "      <td>RobbieDaymond</td>\n",
       "      <td>13 hrs and 8 mins</td>\n",
       "      <td>01-05-18</td>\n",
       "      <td>English</td>\n",
       "      <td>4.5 out of 5 stars41 ratings</td>\n",
       "      <td>820.00</td>\n",
       "    </tr>\n",
       "  </tbody>\n",
       "</table>\n",
       "</div>"
      ],
      "text/plain": [
       "                         name           author       narrator  \\\n",
       "0  Geronimo Stilton #11 & #12  GeronimoStilton     BillLobely   \n",
       "1            The Burning Maze      RickRiordan  RobbieDaymond   \n",
       "\n",
       "                time releasedate language                         stars  \\\n",
       "0  2 hrs and 20 mins    04-08-08  English    5 out of 5 stars34 ratings   \n",
       "1  13 hrs and 8 mins    01-05-18  English  4.5 out of 5 stars41 ratings   \n",
       "\n",
       "    price  \n",
       "0  468.00  \n",
       "1  820.00  "
      ]
     },
     "execution_count": 28,
     "metadata": {},
     "output_type": "execute_result"
    }
   ],
   "source": [
    "# Clean text data in Author and Narrator columns\n",
    "# Remove Writtenby: from the author column\n",
    "df['author'] = df['author'].str.replace('Writtenby:', '')\n",
    "# Remove Narratedby: from the narrator column\n",
    "df['narrator'] = df['narrator'].str.replace('Narratedby:', '')\n",
    "df.head(2)"
   ]
  },
  {
   "cell_type": "code",
   "execution_count": 29,
   "id": "2bc610ed",
   "metadata": {},
   "outputs": [],
   "source": [
    "# Clean stars table\n",
    "# Create separate column for ratings\n",
    "df['ratings'] = df['stars'].str.extract(r'stars(\\d+)\\s')\n",
    "df['ratings'] = df['ratings'].fillna(0).astype('int')\n",
    "# Create separate column for stars\n",
    "df['stars out of five'] = df['stars'].str.extract(r'(\\d+)\\sout')\n",
    "df['stars out of five'] = df['stars out of five'].fillna(0).astype('int')\n",
    "df.drop('stars', axis=1, inplace=True)\n",
    "# df.head(2)\n",
    "# df['stars out of five'].unique()\n",
    "# df['ratings'].sample(n=30)"
   ]
  },
  {
   "cell_type": "code",
   "execution_count": 30,
   "id": "09ddb529",
   "metadata": {},
   "outputs": [
    {
     "data": {
      "text/plain": [
       "13560     501.0\n",
       "50607     118.0\n",
       "75149     500.0\n",
       "69419     668.0\n",
       "85881     641.0\n",
       "61091     345.0\n",
       "45664     820.0\n",
       "47072     486.0\n",
       "51565      99.0\n",
       "19427     267.0\n",
       "606       192.0\n",
       "75546     316.0\n",
       "3956      105.0\n",
       "86137     773.0\n",
       "42611     703.0\n",
       "56847     586.0\n",
       "74601     668.0\n",
       "22831     691.0\n",
       "24849     755.0\n",
       "56399     501.0\n",
       "69771     836.0\n",
       "24413     117.0\n",
       "72734     703.0\n",
       "783        76.0\n",
       "23111    1093.0\n",
       "32389     879.0\n",
       "39472     224.0\n",
       "83707     767.0\n",
       "72414     490.0\n",
       "74476     703.0\n",
       "Name: price, dtype: float64"
      ]
     },
     "execution_count": 30,
     "metadata": {},
     "output_type": "execute_result"
    }
   ],
   "source": [
    "# Replace the comma with ''\n",
    "df['price'] = df['price'].str.replace(',', '')\n",
    "# Replace 'Free' with 0\n",
    "df['price'] = df['price'].str.replace('Free', '0')\n",
    "# Turn price to float\n",
    "df['price'] = df['price'].astype(float)\n",
    "df['price'].sample(n=30)"
   ]
  }
 ],
 "metadata": {
  "kernelspec": {
   "display_name": "venv",
   "language": "python",
   "name": "python3"
  },
  "language_info": {
   "codemirror_mode": {
    "name": "ipython",
    "version": 3
   },
   "file_extension": ".py",
   "mimetype": "text/x-python",
   "name": "python",
   "nbconvert_exporter": "python",
   "pygments_lexer": "ipython3",
   "version": "3.10.12"
  }
 },
 "nbformat": 4,
 "nbformat_minor": 5
}
